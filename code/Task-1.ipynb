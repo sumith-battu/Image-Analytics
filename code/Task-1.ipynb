{
 "cells": [
  {
   "cell_type": "code",
   "execution_count": null,
   "id": "91daf239",
   "metadata": {},
   "outputs": [],
   "source": [
    "import cv2\n",
    "import numpy as np\n",
    "import os\n",
    "\n",
    "input_folder = 'input path'  \n",
    "output_folder = 'output path' \n",
    "\n",
    "if not os.path.exists(output_folder):\n",
    "    os.makedirs(output_folder)\n",
    "input_files = os.listdir(input_folder)\n",
    "\n",
    "for input_file in input_files:\n",
    "    input_path = os.path.join(input_folder, input_file)\n",
    "    image = cv2.imread(input_path)\n",
    "    gray = cv2.cvtColor(image, cv2.COLOR_BGR2GRAY)\n",
    "    lower_black = np.array([0])\n",
    "    upper_black = np.array([30])\n",
    "    black_mask = cv2.inRange(gray, lower_black, upper_black)\n",
    "    contours, _ = cv2.findContours(black_mask, cv2.RETR_EXTERNAL, cv2.CHAIN_APPROX_SIMPLE)\n",
    "    for contour in contours:\n",
    "        (x, y), radius = cv2.minEnclosingCircle(contour)\n",
    "        center = (int(x), int(y))\n",
    "        radius = int(radius)\n",
    "        cv2.circle(image, center, radius, (0, 0, 255), 4)\n",
    "    output_path = os.path.join(output_folder, input_file)\n",
    "    cv2.imwrite(output_path, image)\n"
   ]
  }
 ],
 "metadata": {
  "kernelspec": {
   "display_name": "Python 3 (ipykernel)",
   "language": "python",
   "name": "python3"
  },
  "language_info": {
   "codemirror_mode": {
    "name": "ipython",
    "version": 3
   },
   "file_extension": ".py",
   "mimetype": "text/x-python",
   "name": "python",
   "nbconvert_exporter": "python",
   "pygments_lexer": "ipython3",
   "version": "3.9.7"
  }
 },
 "nbformat": 4,
 "nbformat_minor": 5
}
