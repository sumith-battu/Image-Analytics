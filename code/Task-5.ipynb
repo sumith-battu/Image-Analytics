{
 "cells": [
  {
   "cell_type": "code",
   "execution_count": null,
   "id": "a141ef04",
   "metadata": {},
   "outputs": [],
   "source": [
    "import cv2\n",
    "import numpy as np\n",
    "import os\n",
    "\n",
    "input_folder = 'input path'  \n",
    "output_folder = 'output path'  \n",
    "\n",
    "if not os.path.exists(output_folder):\n",
    "    os.makedirs(output_folder)\n",
    "\n",
    "input_files = [file for file in os.listdir(input_folder) if file.lower().endswith(('.png', '.jpg', '.jpeg'))]\n",
    "\n",
    "for file in input_files:\n",
    "    image = cv2.imread(os.path.join(input_folder, file))\n",
    "    gray = cv2.cvtColor(image, cv2.COLOR_BGR2GRAY)\n",
    "    lower_black = np.array([0])\n",
    "    upper_black = np.array([30])\n",
    "    black_mask = cv2.inRange(gray, lower_black, upper_black)\n",
    "    contours, _ = cv2.findContours(black_mask, cv2.RETR_EXTERNAL, cv2.CHAIN_APPROX_SIMPLE)\n",
    "    centroid = (0, 0)\n",
    "    if len(contours) > 0:\n",
    "        largest_contour = max(contours, key=cv2.contourArea)\n",
    "        M = cv2.moments(largest_contour)\n",
    "        if M[\"m00\"] != 0:\n",
    "            centroid = (int(M[\"m10\"] / M[\"m00\"]), int(M[\"m01\"] / M[\"m00\"]))\n",
    "        image_with_centroid = image.copy()\n",
    "        cv2.circle(image_with_centroid, centroid, 5, (0, 0, 255), -1)\n",
    "        text_centroid = f'Centroid = {centroid}'\n",
    "        font = cv2.FONT_HERSHEY_SIMPLEX\n",
    "        font_scale = 0.5\n",
    "        font_color = (0, 0, 255)\n",
    "        font_thickness = 2\n",
    "        text_size_centroid = cv2.getTextSize(text_centroid, font, font_scale, font_thickness)[0]\n",
    "        text_x = 10\n",
    "        text_y = 20\n",
    "        cv2.putText(image_with_centroid, text_centroid, (text_x, text_y), font, font_scale, font_color, font_thickness)\n",
    "        output_path = os.path.join(output_folder, file)\n",
    "        cv2.imwrite(output_path, image_with_centroid)\n"
   ]
  }
 ],
 "metadata": {
  "kernelspec": {
   "display_name": "Python 3 (ipykernel)",
   "language": "python",
   "name": "python3"
  },
  "language_info": {
   "codemirror_mode": {
    "name": "ipython",
    "version": 3
   },
   "file_extension": ".py",
   "mimetype": "text/x-python",
   "name": "python",
   "nbconvert_exporter": "python",
   "pygments_lexer": "ipython3",
   "version": "3.9.7"
  }
 },
 "nbformat": 4,
 "nbformat_minor": 5
}
